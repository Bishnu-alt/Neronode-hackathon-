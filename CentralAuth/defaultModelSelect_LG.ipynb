{
 "cells": [
  {
   "cell_type": "code",
   "execution_count": null,
   "id": "7bbbc992",
   "metadata": {},
   "outputs": [],
   "source": [
    "from sklearn.linear_model import LogisticRegression\n",
    "import pickle\n",
    "\n",
    "\n",
    "default_model = LogisticRegression(\n",
    "    multi_class='multinomial',\n",
    "    solver='lbfgs',\n",
    "    class_weight='balanced',\n",
    "    max_iter=500\n",
    ")\n",
    "\n",
    "\n",
    "model_blob = pickle.dumps(default_model)\n"
   ]
  },
  {
   "cell_type": "code",
   "execution_count": 2,
   "id": "17d166d3",
   "metadata": {},
   "outputs": [
    {
     "name": "stdout",
     "output_type": "stream",
     "text": [
      "Looking in indexes: https://pypi.org/simple, https://pypi.ngc.nvidia.com\n",
      "Requirement already satisfied: mysql-connector-python in c:\\users\\lenovo\\appdata\\local\\programs\\python\\python312\\lib\\site-packages (9.4.0)\n"
     ]
    },
    {
     "name": "stderr",
     "output_type": "stream",
     "text": [
      "\n",
      "[notice] A new release of pip is available: 24.2 -> 25.1.1\n",
      "[notice] To update, run: python.exe -m pip install --upgrade pip\n"
     ]
    }
   ],
   "source": [
    "!python -m pip install mysql-connector-python\n"
   ]
  },
  {
   "cell_type": "code",
   "execution_count": null,
   "id": "027a91df",
   "metadata": {},
   "outputs": [],
   "source": [
    "import mysql.connector\n",
    "import pickle\n",
    "from sklearn.linear_model import LogisticRegression\n",
    "\n",
    "\n",
    "default_model = LogisticRegression(\n",
    "    multi_class='multinomial',\n",
    "    solver='lbfgs',\n",
    "    class_weight='balanced',\n",
    "    max_iter=500\n",
    ")\n",
    "model_blob = pickle.dumps(default_model)\n",
    "\n",
    "\n",
    "conn_config = {\n",
    "    'host': '127.0.0.1',\n",
    "    'user': 'centralAuth',\n",
    "    'password': 'messi10',\n",
    "    'database': 'fl_database'\n",
    "}\n",
    "conn = mysql.connector.connect(**conn_config)\n",
    "cursor = conn.cursor()\n",
    "\n",
    "\n",
    "query = \"INSERT INTO central_updates (model_id, version, model_blob) VALUES (%s, %s, %s)\"\n",
    "cursor.execute(query, (1, 1, model_blob))\n",
    "\n",
    "\n",
    "conn.commit()\n",
    "cursor.close()\n",
    "conn.close()\n"
   ]
  }
 ],
 "metadata": {
  "kernelspec": {
   "display_name": "Python 3",
   "language": "python",
   "name": "python3"
  },
  "language_info": {
   "codemirror_mode": {
    "name": "ipython",
    "version": 3
   },
   "file_extension": ".py",
   "mimetype": "text/x-python",
   "name": "python",
   "nbconvert_exporter": "python",
   "pygments_lexer": "ipython3",
   "version": "3.12.6"
  }
 },
 "nbformat": 4,
 "nbformat_minor": 5
}
